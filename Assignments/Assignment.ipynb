{
 "cells": [
  {
   "cell_type": "markdown",
   "id": "384e9d23-8f2e-477b-b1f7-091ef3515a9f",
   "metadata": {},
   "source": [
    "\n",
    "# **Assignment for the Programming for Data Analysis**\n",
    "\n",
    "****"
   ]
  },
  {
   "cell_type": "markdown",
   "id": "503a2815-fb0f-44ce-813f-24389b9972fa",
   "metadata": {},
   "source": [
    "The goal of this Notebook is to explain the use and purpose of the ``numpy.random`` package in Python."
   ]
  },
  {
   "cell_type": "markdown",
   "id": "b539324c-1b6a-4653-87de-5882e8a80d37",
   "metadata": {},
   "source": [
    "### Table of content\n",
    "[1. Purpose of the ``numpy.random`` package](#par1)\n",
    "\n",
    "[2. The use of \"Simple random data\" and \"Permutation\" functions](#par2)\n",
    "\n",
    "[3. The use and purpose of selected distributions functions](#par3)\n",
    "\n",
    "[3.1 Zipf distribution](#par3.1)\n",
    "\n",
    "[3.2 Weibull distribution](#par3.2)\n",
    "\n",
    "[4. Purpose of seeds in generating pseudorandom numbers](#par4)\n",
    "\n",
    "[5. References](#ref)"
   ]
  },
  {
   "cell_type": "markdown",
   "id": "830abd9c-52ca-4402-9374-78cc3bcf0168",
   "metadata": {},
   "source": [
    "### Import all the packages"
   ]
  },
  {
   "cell_type": "code",
   "execution_count": 1,
   "id": "c03b7333-fe1a-4c72-b94e-49b22b599c64",
   "metadata": {},
   "outputs": [],
   "source": [
    "import numpy as np\n",
    "import seaborn as sns"
   ]
  },
  {
   "cell_type": "markdown",
   "id": "1a2ff856-c72b-4b81-8898-21866615fd33",
   "metadata": {},
   "source": [
    "<a id=\"par1\"></a>\n",
    "## 1. Purpose of the ``numpy.random`` package"
   ]
  },
  {
   "cell_type": "code",
   "execution_count": null,
   "id": "3d2f3035-c20a-4cb1-876c-d2ca6e44c298",
   "metadata": {},
   "outputs": [],
   "source": []
  },
  {
   "cell_type": "code",
   "execution_count": null,
   "id": "13fba2cc-531c-4474-84a2-010609456eea",
   "metadata": {},
   "outputs": [],
   "source": []
  },
  {
   "cell_type": "markdown",
   "id": "c048c70f-db15-4ad2-8fc3-69afa624757c",
   "metadata": {},
   "source": [
    "<a id=\"par2\"></a>\n",
    "## 2. The use of \"Simple random data\" and \"Permutation\" functions"
   ]
  },
  {
   "cell_type": "code",
   "execution_count": null,
   "id": "3dcb4996-e5b7-44c9-8f93-893880aabdc2",
   "metadata": {},
   "outputs": [],
   "source": []
  },
  {
   "cell_type": "code",
   "execution_count": null,
   "id": "153cc7e1-4563-42ab-8ab7-3f25ced01883",
   "metadata": {},
   "outputs": [],
   "source": []
  },
  {
   "cell_type": "markdown",
   "id": "05951982-6852-4e28-b0b4-87fad3edfb1e",
   "metadata": {},
   "source": [
    "<a id=\"par3\"></a>\n",
    "## 3. The use and purpose of selected distributions functions"
   ]
  },
  {
   "cell_type": "markdown",
   "id": "15292f61-1da1-4e39-b353-7e66e979bba8",
   "metadata": {},
   "source": [
    "<a id=\"par3.1\"></a>\n",
    "### 3.1 Zipf distribution"
   ]
  },
  {
   "cell_type": "markdown",
   "id": "066c7421-aad1-475b-b211-96330d359cf2",
   "metadata": {},
   "source": [
    "<a id=\"par3.2\"></a>\n",
    "### 3.2 Weibull distribution"
   ]
  },
  {
   "cell_type": "markdown",
   "id": "10526639-64b3-4e86-ba30-9a4c41d73167",
   "metadata": {},
   "source": [
    "<a id=\"par4\"></a>\n",
    "## 4. Purpose of seeds in generating pseudorandom numbers"
   ]
  },
  {
   "cell_type": "code",
   "execution_count": null,
   "id": "d695104d-fc77-4e0d-af14-3df0e20b4e1c",
   "metadata": {},
   "outputs": [],
   "source": []
  },
  {
   "cell_type": "code",
   "execution_count": null,
   "id": "81071649-ae8c-4559-8ad4-3039fa6f13f8",
   "metadata": {},
   "outputs": [],
   "source": []
  },
  {
   "cell_type": "code",
   "execution_count": null,
   "id": "ef501285-c230-40df-bff1-0f3670ffeead",
   "metadata": {},
   "outputs": [],
   "source": []
  },
  {
   "cell_type": "markdown",
   "id": "7cc9ad37-ceaf-45ad-a679-d4733ba31c5e",
   "metadata": {},
   "source": [
    "<a id=\"ref\"></a>\n",
    "## 5. References"
   ]
  },
  {
   "cell_type": "markdown",
   "id": "a7a762cf-ee4f-473e-884e-39fd5fd1af73",
   "metadata": {},
   "source": [
    "https://www.ibm.com/docs/en/watson-studio-local/1.2.3?topic=notebooks-markdown-jupyter-cheatsheet"
   ]
  },
  {
   "cell_type": "markdown",
   "id": "d649d8a4-1101-404c-a2bf-6c49e612836b",
   "metadata": {},
   "source": []
  },
  {
   "cell_type": "markdown",
   "id": "ff17a19d-5c2a-4190-8a73-1aa5474314f0",
   "metadata": {},
   "source": [
    "## End"
   ]
  },
  {
   "cell_type": "code",
   "execution_count": null,
   "id": "56c693c5-3774-4718-b775-6b2395851b3d",
   "metadata": {},
   "outputs": [],
   "source": []
  }
 ],
 "metadata": {
  "kernelspec": {
   "display_name": "Python 3 (ipykernel)",
   "language": "python",
   "name": "python3"
  },
  "language_info": {
   "codemirror_mode": {
    "name": "ipython",
    "version": 3
   },
   "file_extension": ".py",
   "mimetype": "text/x-python",
   "name": "python",
   "nbconvert_exporter": "python",
   "pygments_lexer": "ipython3",
   "version": "3.8.11"
  }
 },
 "nbformat": 4,
 "nbformat_minor": 5
}
