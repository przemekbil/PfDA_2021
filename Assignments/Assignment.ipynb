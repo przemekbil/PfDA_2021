{
 "cells": [
  {
   "cell_type": "markdown",
   "id": "384e9d23-8f2e-477b-b1f7-091ef3515a9f",
   "metadata": {},
   "source": [
    "\n",
    "# **Assignment for the Programming for Data Analysis**\n",
    "\n",
    "****"
   ]
  },
  {
   "cell_type": "markdown",
   "id": "503a2815-fb0f-44ce-813f-24389b9972fa",
   "metadata": {},
   "source": [
    "The goal of this Notebook is to explain the use and purpose of the ``numpy.random`` package in Python."
   ]
  },
  {
   "cell_type": "markdown",
   "id": "b539324c-1b6a-4653-87de-5882e8a80d37",
   "metadata": {
    "tags": []
   },
   "source": [
    "### Table of content\n",
    "[1. Purpose of the ``numpy.random`` package](#par1)<br>\n",
    "[2. The use of \"Simple random data\" and \"Permutation\" functions](#par2)<br>\n",
    "[3. The use and purpose of selected distributions functions](#par3)<br>\n",
    "[3.1 Zipf distribution](#par3.1)<br>\n",
    "[3.1.1 Theory](#par3.1.1)<br>\n",
    "[3.1.2 Use of ``numpy.random.Generator.zipf``](#par3.1.2)<br>\n",
    "[3.2 Weibull distribution](#par3.2)<br>\n",
    "[3.2.1 Theory](#par3.2.1)<br>\n",
    "[3.2.2 Use of ``numpy.random.Generator.weibull``](#par3.2.2)<br>\n",
    "[3.3 Binomial distribution](#par3.3)<br>\n",
    "[3.3.1 Theory](#par3.3.1)<br>\n",
    "[3.3.2 Use of ``numpy.random.Generator.binomial``](#par3.3.2)<br>\n",
    "[4. Purpose of seeds in generating pseudorandom numbers](#par4)<br>\n",
    "[5. References](#ref)<br>\n",
    "<hr>"
   ]
  },
  {
   "cell_type": "markdown",
   "id": "830abd9c-52ca-4402-9374-78cc3bcf0168",
   "metadata": {},
   "source": [
    "### Import all the packages"
   ]
  },
  {
   "cell_type": "code",
   "execution_count": 82,
   "id": "c03b7333-fe1a-4c72-b94e-49b22b599c64",
   "metadata": {},
   "outputs": [],
   "source": [
    "import numpy as np\n",
    "import seaborn as sns\n",
    "import matplotlib.pyplot as plt\n",
    "from scipy import special\n",
    "from math import factorial\n",
    "from scipy.stats import binom"
   ]
  },
  {
   "cell_type": "code",
   "execution_count": 2,
   "id": "9d0e57ac-4c68-4b51-a745-34e9f5187ecc",
   "metadata": {},
   "outputs": [],
   "source": [
    "# Define the numpy psudorandom numbers Generator\n",
    "rng = np.random.default_rng()"
   ]
  },
  {
   "cell_type": "markdown",
   "id": "1a2ff856-c72b-4b81-8898-21866615fd33",
   "metadata": {},
   "source": [
    "<a id=\"par1\"></a>\n",
    "## 1. Purpose of the ``numpy.random`` package"
   ]
  },
  {
   "cell_type": "code",
   "execution_count": null,
   "id": "3d2f3035-c20a-4cb1-876c-d2ca6e44c298",
   "metadata": {},
   "outputs": [],
   "source": []
  },
  {
   "cell_type": "code",
   "execution_count": null,
   "id": "13fba2cc-531c-4474-84a2-010609456eea",
   "metadata": {},
   "outputs": [],
   "source": []
  },
  {
   "cell_type": "markdown",
   "id": "c048c70f-db15-4ad2-8fc3-69afa624757c",
   "metadata": {},
   "source": [
    "<a id=\"par2\"></a>\n",
    "## 2. The use of \"Simple random data\" and \"Permutation\" functions"
   ]
  },
  {
   "cell_type": "code",
   "execution_count": null,
   "id": "3dcb4996-e5b7-44c9-8f93-893880aabdc2",
   "metadata": {},
   "outputs": [],
   "source": []
  },
  {
   "cell_type": "code",
   "execution_count": null,
   "id": "153cc7e1-4563-42ab-8ab7-3f25ced01883",
   "metadata": {},
   "outputs": [],
   "source": []
  },
  {
   "cell_type": "markdown",
   "id": "05951982-6852-4e28-b0b4-87fad3edfb1e",
   "metadata": {},
   "source": [
    "<a id=\"par3\"></a>\n",
    "## 3. The use and purpose of selected distributions functions"
   ]
  },
  {
   "cell_type": "markdown",
   "id": "15292f61-1da1-4e39-b353-7e66e979bba8",
   "metadata": {},
   "source": [
    "<a id=\"par3.1\"></a>\n",
    "### 3.1 Zipf distribution"
   ]
  },
  {
   "cell_type": "markdown",
   "id": "9daed267-96fc-4516-892e-af5e7af5c041",
   "metadata": {
    "tags": []
   },
   "source": [
    "<a id=\"par3.1.1\"></a>\n",
    "#### 3.1.1 Theory"
   ]
  },
  {
   "cell_type": "markdown",
   "id": "809eeeea-4917-426d-a314-295ac59a39e2",
   "metadata": {},
   "source": [
    "The Zipf distribution, is a discrete distribution (one of a family of related discrete power law probability distributions) commonly used in linguistics, insurance and the modelling of rare events [4] This distribution was named after American linguist George Kingsley Zipf, who popularized it while attempting to explain the strange phenomenon observed in distribution of words within any language: the frequency of occurence of any word seems to be inversyly proportional to its rank in the frequency table [3]. The second most used word will appear about half as often as the most used, the third one third as often, the fourth one fourth as often and so on [5]. Whether the most commonly used words are ranked across entire language or in just one book, almost every time this pattern emerges.\n",
    "\n",
    "There any many other phenomenas that appear to follow the Zipf distribution [2]:\n",
    "* Citations of scientific papers\n",
    "* Web hits\n",
    "* Copies of books sold\n",
    "* Number of phone calls received\n",
    "* Distribution of the first digits in any socially or naturally related datasets (budget, income tax or populations) - known as Benford's Law [6] \n",
    "\n",
    "\n",
    "The probability density for the Zipf distribution is described by the following function:\n",
    "\n",
    "$$\n",
    "P(k)=\\frac{k^{-a}}{\\zeta(a)}\n",
    "$$\n",
    "\n",
    "Where the $\\zeta(a)$ is the Riemann Zeta function:\n",
    "$$\n",
    "\\zeta(a)=\\sum_{k=1}^\\infty \\frac{1}{k^a}\n",
    "$$\n",
    "\n",
    "For the populations with a finite number of elements $N$, the normalized frequency of the element of rank $n$ can be specified as:\n",
    "$$\n",
    "f(n;a,N)=\\frac{n^{-a}}{\\sum_{k=1}^N \\frac{1}{n^a}}\n",
    "$$\n",
    "where $a$ is the exponent parameter characterizing the distribution [3]"
   ]
  },
  {
   "cell_type": "markdown",
   "id": "421e234b-1d3a-4f33-895b-bdadc3f60dfd",
   "metadata": {},
   "source": [
    "<a id=\"par3.1.2\"></a>\n",
    "#### 3.1.2 Use of ``numpy.random.Generator.zipf``"
   ]
  },
  {
   "cell_type": "markdown",
   "id": "a9ec8124-c413-4f78-a8af-a41eee347c46",
   "metadata": {},
   "source": [
    "The ``numpy.random.Generator.zipf`` function can be used to generate an array of psedorandom values that follow Zipf's distribution. It accepts 2 parameters:\n",
    "* a - distribution parameter (must be greater than 1)\n",
    "* size - the size of the generated array. This parameter is optional, if no size is specified, a single value is returned\n",
    "\n",
    "As a first step, let's generate example sample data using distribution:"
   ]
  },
  {
   "cell_type": "code",
   "execution_count": 17,
   "id": "f25196df-cecb-495b-8495-42dddbc4a96d",
   "metadata": {},
   "outputs": [],
   "source": [
    "# distribution parameter\n",
    "a = 1.01\n",
    "# array of 10000 psedorandom values that were pooled from Zipf's distribution\n",
    "zipf = rng.zipf(a, 10000)"
   ]
  },
  {
   "cell_type": "code",
   "execution_count": 18,
   "id": "32249854-9bf7-4e29-9295-4dcd2ba79f37",
   "metadata": {},
   "outputs": [],
   "source": [
    "# define the probability density function for the Zipf distribution\n",
    "def pdf(x, a):\n",
    "    return x**(-a) / special.zetac(a) "
   ]
  },
  {
   "cell_type": "code",
   "execution_count": 20,
   "id": "4fd698a8-ea4b-48a8-9343-a7168cffb701",
   "metadata": {},
   "outputs": [
    {
     "data": {
      "image/png": "[encoded data removed]",
      "text/plain": [
       "<Figure size 720x504 with 1 Axes>"
      ]
     },
     "metadata": {
      "needs_background": "light"
     },
     "output_type": "display_data"
    }
   ],
   "source": [
    "max_n = 100\n",
    "count, bins, ignored = plt.hist(zipf[zipf<max_n], max_n, density=True)\n",
    "x = np.arange(1., max_n)\n",
    "scale = count.max()/pdf(x, a).max()\n",
    "\n",
    "plt.plot(x, pdf(x, a), linewidth=2, color='r')\n",
    "plt.axis([0, max_n, 0, count.max()])\n",
    "plt.show()"
   ]
  },
  {
   "cell_type": "markdown",
   "id": "ae7a20e7-f410-426b-b934-9bc5b04a0c35",
   "metadata": {},
   "source": [
    "Zipf's law is most easily observed by plotting the data on the log-log plot, with the x axis being log(rank order) and the y log(frequency). Let's re-plot the ``zipf`` array and the theoretical probability density distribution ``pdf`` using log-log plot:"
   ]
  },
  {
   "cell_type": "code",
   "execution_count": 11,
   "id": "5a13d85e-d049-4320-933f-eace0e2976ef",
   "metadata": {},
   "outputs": [
    {
     "data": {
      "image/png": "[encoded data removed]",
      "text/plain": [
       "<Figure size 432x288 with 1 Axes>"
      ]
     },
     "metadata": {
      "needs_background": "light"
     },
     "output_type": "display_data"
    }
   ],
   "source": [
    "count, bins, ignored = plt.hist(zipf[zipf<max_n], max_n, density=True)\n",
    "\n",
    "plt.plot(x, pdf(x,a), linewidth=2, color='r')\n",
    "plt.yscale('log')\n",
    "plt.xscale('log')\n",
    "plt.show()"
   ]
  },
  {
   "cell_type": "markdown",
   "id": "8e9a78d5-75d3-4b34-b22f-3ea5e819ad3d",
   "metadata": {},
   "source": [
    "#### The effect of the distribution parameter 'a' on the Zipf distribution"
   ]
  },
  {
   "cell_type": "code",
   "execution_count": 30,
   "id": "a29ab24f-ae0c-4ed4-a10e-9b4a1f01bd1a",
   "metadata": {},
   "outputs": [
    {
     "data": {
      "image/png": "[encoded data removed]",
      "text/plain": [
       "<Figure size 1008x720 with 4 Axes>"
      ]
     },
     "metadata": {
      "needs_background": "light"
     },
     "output_type": "display_data"
    }
   ],
   "source": [
    "def sub_plt(p, a):\n",
    "    max_n = 50\n",
    "    \n",
    "    # array of 10000 psedorandom values pooled from Zipf's distribution\n",
    "    zipf = rng.zipf(a, 100000)\n",
    "    x = np.arange(1., max_n)\n",
    "\n",
    "    count, bins, ignored = plt.hist(zipf[zipf<max_n], max_n, density=True)\n",
    "    \n",
    "    scale = count.max()/pdf(x, a).max()\n",
    "    p.axis([0, max_n, 0, count.max()])\n",
    "    p.plot(x, pdf(x, a)*scale)\n",
    "    p.title('a={}'.format(a))\n",
    "\n",
    "# as per How to increase the spacing between subplots in Matplotlib [9]\n",
    "plt.rcParams[\"figure.figsize\"] = [14, 10]\n",
    "    \n",
    "a=1.01\n",
    "plt.subplot(2,2,1)\n",
    "sub_plt(plt, a)\n",
    "\n",
    "a=1.5\n",
    "plt.subplot(2,2,2)\n",
    "sub_plt(plt, a)\n",
    "\n",
    "a=2.\n",
    "plt.subplot(2,2,3)\n",
    "sub_plt(plt, a)\n",
    "\n",
    "a=3.\n",
    "plt.subplot(2,2,4)\n",
    "sub_plt(plt, a)\n",
    "\n",
    "plt.show()"
   ]
  },
  {
   "cell_type": "code",
   "execution_count": null,
   "id": "c40519a8-d8e8-4aa5-a3b0-6f808632ef08",
   "metadata": {},
   "outputs": [],
   "source": []
  },
  {
   "cell_type": "code",
   "execution_count": null,
   "id": "73eb9245-6235-4015-8ea1-c30fcbbdc0d8",
   "metadata": {},
   "outputs": [],
   "source": []
  },
  {
   "cell_type": "markdown",
   "id": "066c7421-aad1-475b-b211-96330d359cf2",
   "metadata": {},
   "source": [
    "<a id=\"par3.2\"></a>\n",
    "### 3.2 Weibull distribution\n",
    "    "
   ]
  },
  {
   "cell_type": "markdown",
   "id": "930a5b82-766e-4706-a908-9f945a366a3e",
   "metadata": {
    "tags": []
   },
   "source": [
    "<a id=\"par3.2.1\"></a>\n",
    "#### 3.2.1 Theory"
   ]
  },
  {
   "cell_type": "markdown",
   "id": "0b507bad-2177-4b41-923f-6544aee0b774",
   "metadata": {},
   "source": [
    "The Weibull distribution is a continuous probability distribution named after Swedish mathematician Waloddi Weibull. It is being widely used in the reliability engineering, failure analysis and survival analysis [7]. For the general (3-parameter) Weibull distribution, the probability density function is defined as [8]:\n",
    "$$\n",
    "P(x)=\\frac{a}{\\alpha}*(\\frac{x-\\mu}{\\alpha})^{(a-1)}*e^{-\\frac{x-\\mu}{\\alpha}^{a}}\n",
    "$$\n",
    "where:\n",
    "* $a$ is the shape parameter; this allows a distribution to take on a variety of shapes\n",
    "* $\\mu$ is the location parameter; the effect of this parameter is translation of the graph by the value of this parameter right (for $\\mu>0$) or left (for $\\mu<0$)\n",
    "* $\\alpha$ is the scale parameter; the effect of this parameter is to strech out the graph\n",
    "\n",
    "When $\\mu=0$ and the $\\alpha=1$ the resulting distribution is called the standard (or one-parameter) Weibull distribution. In this case, the probability density function reduces to:\n",
    "$$\n",
    "P(x)=a*x^{(a-1)}*e^{-x^a}\n",
    "$$"
   ]
  },
  {
   "cell_type": "markdown",
   "id": "6488a8f3-b908-4bdf-ba6d-2ba26dc5a991",
   "metadata": {
    "tags": []
   },
   "source": [
    "<a id=\"par3.2.2\"></a>\n",
    "#### 3.2.2 Use of ``numpy.random.Generator.weibull``"
   ]
  },
  {
   "cell_type": "markdown",
   "id": "dfd08c6c-4fdf-45e5-b038-e7de0fbd3b6f",
   "metadata": {},
   "source": [
    "The ``numpy.random.Generator.weibull`` function can be used to generate an array of psedorandom values that follow Weibull's one-parameter distribution. The function accepts 2 parameters:\n",
    "* a - shape parameter (must be equal or greater than 0)\n",
    "* size - the size of the generated array. This parameter is optional, if no size is specified, a single value is returned\n",
    "\n",
    "Let's generate example array:"
   ]
  },
  {
   "cell_type": "code",
   "execution_count": 35,
   "id": "dd3ee33e-7e8e-4c58-a275-1c76b958bb9b",
   "metadata": {},
   "outputs": [],
   "source": [
    "# shape parameter of the Weibull distribution\n",
    "a = 2.5\n",
    "\n",
    "# Array of a pseudorandom numbers pooled from the one-parameter Weibull distribution with the shape parameter a\n",
    "weibull = rng.weibull(a, 1000)"
   ]
  },
  {
   "cell_type": "code",
   "execution_count": 36,
   "id": "4ccc37cf-f8e0-4cf6-bbf8-ed23bf90d6cd",
   "metadata": {},
   "outputs": [],
   "source": [
    "# define an array of 100 numbers spanning from 0 to the maximum number in the weibull array\n",
    "x = np.arange(1, 100.)/100.*max(weibull)"
   ]
  },
  {
   "cell_type": "code",
   "execution_count": 10,
   "id": "07a27615-6182-429c-9a3b-b4b6565dd396",
   "metadata": {},
   "outputs": [],
   "source": [
    "# define the probability density function for the standard (one-parameter) Weibull distribution\n",
    "def pdf(x, a):\n",
    "    return a  * x **(a - 1) * np.exp(-x**a)"
   ]
  },
  {
   "cell_type": "code",
   "execution_count": 11,
   "id": "7d1b5ea0-f3c2-4dfe-8995-7213846f4423",
   "metadata": {},
   "outputs": [
    {
     "data": {
      "image/png": "[encoded data removed]",
      "text/plain": [
       "<Figure size 432x288 with 1 Axes>"
      ]
     },
     "metadata": {
      "needs_background": "light"
     },
     "output_type": "display_data"
    }
   ],
   "source": [
    "count, bins, ignored = plt.hist(weibull, 50)\n",
    "\n",
    "scale = count.max()/pdf(x, a).max()\n",
    "plt.plot(x, pdf(x, a)*scale)\n",
    "\n",
    "plt.show()"
   ]
  },
  {
   "cell_type": "markdown",
   "id": "80e54d2a-e162-45a4-be25-e6986f4b230d",
   "metadata": {},
   "source": [
    "#### The effect of the shape parameter on Weibull distribution"
   ]
  },
  {
   "cell_type": "code",
   "execution_count": 24,
   "id": "6314e044-f7fb-4aca-b548-3985a34852f5",
   "metadata": {},
   "outputs": [
    {
     "data": {
      "image/png": "[encoded data removed]",
      "text/plain": [
       "<Figure size 720x504 with 4 Axes>"
      ]
     },
     "metadata": {
      "needs_background": "light"
     },
     "output_type": "display_data"
    }
   ],
   "source": [
    "def sub_plt(p, a):\n",
    "    weibull = rng.weibull(a, 1000)\n",
    "    x = np.arange(1, 100.)/100.*max(weibull)\n",
    "\n",
    "    count, bins, ignored = p.hist(weibull, 50)\n",
    "    scale = count.max()/pdf(x, a).max()\n",
    "    p.plot(x, pdf(x, a)*scale)\n",
    "    p.title('a={}'.format(a))\n",
    "\n",
    "# as per How to increase the spacing between subplots in Matplotlib [9]\n",
    "plt.rcParams[\"figure.figsize\"] = [10, 7]\n",
    "    \n",
    "a=0.5\n",
    "plt.subplot(2,2,1)\n",
    "sub_plt(plt, a)\n",
    "\n",
    "a=1.\n",
    "plt.subplot(2,2,2)\n",
    "sub_plt(plt, a)\n",
    "\n",
    "a=2.\n",
    "plt.subplot(2,2,3)\n",
    "sub_plt(plt, a)\n",
    "\n",
    "a=5.\n",
    "plt.subplot(2,2,4)\n",
    "sub_plt(plt, a)\n",
    "\n",
    "plt.show()"
   ]
  },
  {
   "cell_type": "markdown",
   "id": "5a38b5df-06a1-4f88-a240-c642db0adb2b",
   "metadata": {},
   "source": [
    "<a id=\"par3.3\"></a>\n",
    "### 3.3 Binomial distribution"
   ]
  },
  {
   "cell_type": "markdown",
   "id": "6b672234-f2f4-40b3-8ed0-33ec3ccb6315",
   "metadata": {},
   "source": [
    "<a id=\"par3.3.1\"></a>\n",
    "#### 3.3.1 Theory"
   ]
  },
  {
   "cell_type": "markdown",
   "id": "cdb50734-2ca4-40fe-9609-b0381f64c066",
   "metadata": {},
   "source": [
    "Binomial distribution is a discrete probability distribution used for calculating the probability of the outcome in a process, experiment or a survey that can have only 2 outcomes (hence the prefix \"bi\"): Success/Fail, Yes/No, Accept/Reject, Heads/Tails etc. To be able to use the Binomial distrubution, the following criteria has to be satisfied [10]:\n",
    "* Number of trials or observations is fixed\n",
    "* Each trial is independednt\n",
    "* The probability of Success in each trial is exactly the same in each trial\n",
    "\n",
    "The probability mass function for the binomial distribution is:\n",
    "$$\n",
    "P(N; n, p) = \\frac{n!}{N!(n-N)!}*p^N*(1-p)^{n-N}\n",
    "$$\n",
    "where $n$ is the number of trails/observations, $N$ is the number of successes and $p$ is the probability of success."
   ]
  },
  {
   "cell_type": "markdown",
   "id": "0878c4a1-e883-41bd-8bf5-2cf70c150179",
   "metadata": {},
   "source": [
    "<a id=\"par3.3.2\"></a>\n",
    "#### 3.3.2 Use of ``numpy.random.Generator.binomial``"
   ]
  },
  {
   "cell_type": "code",
   "execution_count": null,
   "id": "0cc164bf-f962-45bc-9a89-b5bf041c5c68",
   "metadata": {},
   "outputs": [],
   "source": []
  },
  {
   "cell_type": "code",
   "execution_count": 102,
   "id": "7d41ac86-50f4-448f-98e8-ea222b1dd32e",
   "metadata": {},
   "outputs": [],
   "source": [
    "# result of flipping a coin 10 times, tested 1000 times.\n",
    "n, p = 10, .5  # number of trials, probability of each trial\n",
    "binom_set = rng.binomial(n, p, 1000)"
   ]
  },
  {
   "cell_type": "code",
   "execution_count": 103,
   "id": "3b5bb770-a05e-403a-ad50-07c2c73a6311",
   "metadata": {},
   "outputs": [],
   "source": [
    "# define an array n+1 numbers from 0 to n\n",
    "x = np.arange(0, n+1)"
   ]
  },
  {
   "cell_type": "code",
   "execution_count": 104,
   "id": "5942a058-f607-440e-a63f-c1f003b9484e",
   "metadata": {},
   "outputs": [
    {
     "data": {
      "image/png": "[encoded data removed]",
      "text/plain": [
       "<Figure size 1008x720 with 1 Axes>"
      ]
     },
     "metadata": {
      "needs_background": "light"
     },
     "output_type": "display_data"
    }
   ],
   "source": [
    "count, bins, ignored = plt.hist(binom_set, n-1)\n",
    "\n",
    "scale = count.max()/ binom.pmf(x, n, p, loc=0).max()\n",
    "plt.plot(x, binom.pmf(x, n, p, loc=0)*scale,'*')\n",
    "\n",
    "plt.show()"
   ]
  },
  {
   "cell_type": "code",
   "execution_count": null,
   "id": "d02e0a40-1e3c-4216-b256-355025123a15",
   "metadata": {},
   "outputs": [],
   "source": []
  },
  {
   "cell_type": "code",
   "execution_count": null,
   "id": "022161e6-10a3-41ac-bcc9-82f4232e9355",
   "metadata": {},
   "outputs": [],
   "source": []
  },
  {
   "cell_type": "code",
   "execution_count": null,
   "id": "a3088097-ce09-49e0-9951-d5e132305962",
   "metadata": {},
   "outputs": [],
   "source": []
  },
  {
   "cell_type": "markdown",
   "id": "10526639-64b3-4e86-ba30-9a4c41d73167",
   "metadata": {},
   "source": [
    "<a id=\"par4\"></a>\n",
    "## 4. Purpose of seeds in generating pseudorandom numbers"
   ]
  },
  {
   "cell_type": "code",
   "execution_count": 3,
   "id": "d695104d-fc77-4e0d-af14-3df0e20b4e1c",
   "metadata": {},
   "outputs": [],
   "source": []
  },
  {
   "cell_type": "code",
   "execution_count": 5,
   "id": "81071649-ae8c-4559-8ad4-3039fa6f13f8",
   "metadata": {},
   "outputs": [
    {
     "data": {
      "text/plain": [
       "0.3853"
      ]
     },
     "execution_count": 5,
     "metadata": {},
     "output_type": "execute_result"
    }
   ],
   "source": []
  },
  {
   "cell_type": "code",
   "execution_count": null,
   "id": "ef501285-c230-40df-bff1-0f3670ffeead",
   "metadata": {},
   "outputs": [],
   "source": []
  },
  {
   "cell_type": "markdown",
   "id": "7cc9ad37-ceaf-45ad-a679-d4733ba31c5e",
   "metadata": {},
   "source": [
    "<a id=\"ref\"></a>\n",
    "## 5. References"
   ]
  },
  {
   "cell_type": "markdown",
   "id": "a7a762cf-ee4f-473e-884e-39fd5fd1af73",
   "metadata": {},
   "source": [
    "[[1] The Ultimate Markdown Guide (for Jupyter Notebook)](https://medium.com/analytics-vidhya/the-ultimate-markdown-guide-for-jupyter-notebook-d5e5abf728fd)<br>\n",
    "[[2] Power laws, Pareto distributions and Zipf’s law](https://arxiv.org/pdf/cond-mat/0412004.pdf)<br>\n",
    "[[3] Zipf's law, Wikipedia](https://en.wikipedia.org/wiki/Zipf%27s_law)<br>\n",
    "[[4] Zipf Distribution, Wolfram MathWorld](https://mathworld.wolfram.com/ZipfDistribution.html)<br>\n",
    "[[5] The Zipf Mystery, Vsauce](https://www.youtube.com/watch?v=fCn8zs912OE)<br>\n",
    "[[6] Benford's Law and Zipf's Law](http://www.cut-the-knot.org/do_you_know/zipfLaw.shtml)<br>\n",
    "[[7] Weibull distribution, Wikipedia](https://en.wikipedia.org/wiki/Weibull_distribution)<br>\n",
    "[[8] Weibull distribution](https://www.itl.nist.gov/div898/handbook/eda/section3/eda3668.htm)<br>\n",
    "[[9] How to increase the spacing between subplots in Matplotlib](https://www.tutorialspoint.com/how-to-increase-the-spacing-between-subplots-in-matplotlib-with-subplot2grid)<br>\n",
    "[[10] What is a Binomial Distribution?](https://www.statisticshowto.com/probability-and-statistics/binomial-theorem/binomial-distribution-formula/)<br>"
   ]
  },
  {
   "cell_type": "markdown",
   "id": "d649d8a4-1101-404c-a2bf-6c49e612836b",
   "metadata": {},
   "source": []
  },
  {
   "cell_type": "markdown",
   "id": "ff17a19d-5c2a-4190-8a73-1aa5474314f0",
   "metadata": {},
   "source": [
    "## End"
   ]
  }
 ],
 "metadata": {
  "kernelspec": {
   "display_name": "Python 3 (ipykernel)",
   "language": "python",
   "name": "python3"
  },
  "language_info": {
   "codemirror_mode": {
    "name": "ipython",
    "version": 3
   },
   "file_extension": ".py",
   "mimetype": "text/x-python",
   "name": "python",
   "nbconvert_exporter": "python",
   "pygments_lexer": "ipython3",
   "version": "3.8.11"
  }
 },
 "nbformat": 4,
 "nbformat_minor": 5
}
