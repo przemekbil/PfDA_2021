{
 "cells": [
  {
   "cell_type": "markdown",
   "id": "384e9d23-8f2e-477b-b1f7-091ef3515a9f",
   "metadata": {},
   "source": [
    "\n",
    "# **Assignment for the Programming for Data Analysis**\n",
    "\n",
    "****"
   ]
  },
  {
   "cell_type": "markdown",
   "id": "503a2815-fb0f-44ce-813f-24389b9972fa",
   "metadata": {},
   "source": [
    "The goal of this Notebook is to explain the use and purpose of the ``numpy.random`` package in Python."
   ]
  },
  {
   "cell_type": "markdown",
   "id": "b539324c-1b6a-4653-87de-5882e8a80d37",
   "metadata": {
    "tags": []
   },
   "source": [
    "### Table of content\n",
    "[1. Purpose of the ``numpy.random`` package](#par1)<br>\n",
    "[2. The use of \"Simple random data\" and \"Permutation\" functions](#par2)<br>\n",
    "[3. The use and purpose of selected distributions functions](#par3)<br>\n",
    "[3.1 Zipf distribution](#par3.1)<br>\n",
    "[3.1.1 Theory](#par3.1.1)<br>\n",
    "[3.1.2 Use of ``numpy.random.Generator.zipf``](#par3.1.2)<br>\n",
    "[3.2 Weibull distribution](#par3.2)<br>\n",
    "[3.2.1 Theory](#par3.2.1)<br>\n",
    "[3.2.2 Use of ``numpy.random.Generator.weibull``](#par3.2.2)<br>\n",
    "[4. Purpose of seeds in generating pseudorandom numbers](#par4)<br>\n",
    "[5. References](#ref)<br>"
   ]
  },
  {
   "cell_type": "markdown",
   "id": "830abd9c-52ca-4402-9374-78cc3bcf0168",
   "metadata": {},
   "source": [
    "### Import all the packages"
   ]
  },
  {
   "cell_type": "code",
   "execution_count": 1,
   "id": "c03b7333-fe1a-4c72-b94e-49b22b599c64",
   "metadata": {},
   "outputs": [],
   "source": [
    "import numpy as np\n",
    "import seaborn as sns\n",
    "import matplotlib.pyplot as plt\n",
    "from scipy import special "
   ]
  },
  {
   "cell_type": "code",
   "execution_count": 2,
   "id": "9d0e57ac-4c68-4b51-a745-34e9f5187ecc",
   "metadata": {},
   "outputs": [],
   "source": [
    "# Define the numpy psudorandom numbers Generator\n",
    "rng = np.random.default_rng()"
   ]
  },
  {
   "cell_type": "markdown",
   "id": "1a2ff856-c72b-4b81-8898-21866615fd33",
   "metadata": {},
   "source": [
    "<a id=\"par1\"></a>\n",
    "## 1. Purpose of the ``numpy.random`` package"
   ]
  },
  {
   "cell_type": "code",
   "execution_count": null,
   "id": "3d2f3035-c20a-4cb1-876c-d2ca6e44c298",
   "metadata": {},
   "outputs": [],
   "source": []
  },
  {
   "cell_type": "code",
   "execution_count": null,
   "id": "13fba2cc-531c-4474-84a2-010609456eea",
   "metadata": {},
   "outputs": [],
   "source": []
  },
  {
   "cell_type": "markdown",
   "id": "c048c70f-db15-4ad2-8fc3-69afa624757c",
   "metadata": {},
   "source": [
    "<a id=\"par2\"></a>\n",
    "## 2. The use of \"Simple random data\" and \"Permutation\" functions"
   ]
  },
  {
   "cell_type": "code",
   "execution_count": null,
   "id": "3dcb4996-e5b7-44c9-8f93-893880aabdc2",
   "metadata": {},
   "outputs": [],
   "source": []
  },
  {
   "cell_type": "code",
   "execution_count": null,
   "id": "153cc7e1-4563-42ab-8ab7-3f25ced01883",
   "metadata": {},
   "outputs": [],
   "source": []
  },
  {
   "cell_type": "markdown",
   "id": "05951982-6852-4e28-b0b4-87fad3edfb1e",
   "metadata": {},
   "source": [
    "<a id=\"par3\"></a>\n",
    "## 3. The use and purpose of selected distributions functions"
   ]
  },
  {
   "cell_type": "markdown",
   "id": "15292f61-1da1-4e39-b353-7e66e979bba8",
   "metadata": {},
   "source": [
    "<a id=\"par3.1\"></a>\n",
    "### 3.1 Zipf distribution"
   ]
  },
  {
   "cell_type": "markdown",
   "id": "9daed267-96fc-4516-892e-af5e7af5c041",
   "metadata": {
    "tags": []
   },
   "source": [
    "<a id=\"par3.1.1\"></a>\n",
    "#### 3.1.1 Theory"
   ]
  },
  {
   "cell_type": "markdown",
   "id": "809eeeea-4917-426d-a314-295ac59a39e2",
   "metadata": {},
   "source": [
    "The Zipf distribution, is a discrete distribution commonly used in linguistics, insurance and the modelling of rare events [4] This distribution was named after American linguist George Kingsley Zipf [3], who popularized it while attempting to explain the strange fact: whether the most commonly used words are ranked across antire language or in just one book, almost every time pattern emerges. The second most used work will appear about half as often as the most used, the third one third as often, the fourth one fourth as often as so on [5] In other words, the frequency of occurency of any word is inversyly proportional to it's rank in the frequency table [3]. For example, according to the [https://www.wordfrequency.info/](https://www.wordfrequency.info/) the most frequent word in the English lenguage is \"the\", which accounts for 5.0385% of all the words occurences, followed by \"be\" (3.2623% ) \"and\" (2.4952%) \"a\" (2.4396%) and \"of\" (2.3322%)\n",
    "\n",
    "\n",
    "There any many other phenomenas that appear to follow the Zipf distribution [2]:\n",
    "* Citations of scientific papers\n",
    "* Web hits\n",
    "* Copies of books sold\n",
    "* Number of phone calls received\n",
    "* Distribution of the first digits in any socially or naturally related datasets (budget, income tax or populations) - knowns as Benford's Law [6] \n",
    "\n",
    "\n",
    "The probability density for the Zipf distribution is described by the following function:\n",
    "\n",
    "$$\n",
    "P(k)=\\frac{k^{-a}}{\\zeta(a)}\n",
    "$$\n",
    "\n",
    "Where the $\\zeta(a)$ is the Riemann Zeta function:\n",
    "$$\n",
    "\\zeta(a)=\\sum_{k=1}^\\infty \\frac{1}{k^a}\n",
    "$$\n",
    "\n",
    "For the populations with a finite number of elements $N$, the normalized frequency of the element of rank $n$ is:\n",
    "$$\n",
    "f(n;a,N)=\\frac{n^{-a}}{\\sum_{k=1}^N \\frac{1}{n^a}}\n",
    "$$\n",
    "where $a$ is the exponent parameter characterizing the distribution [3]"
   ]
  },
  {
   "cell_type": "markdown",
   "id": "421e234b-1d3a-4f33-895b-bdadc3f60dfd",
   "metadata": {},
   "source": [
    "<a id=\"par3.1.2\"></a>\n",
    "#### 3.1.2 Use of ``numpy.random.Generator.zipf``"
   ]
  },
  {
   "cell_type": "markdown",
   "id": "a9ec8124-c413-4f78-a8af-a41eee347c46",
   "metadata": {},
   "source": [
    "The ``numpy.random.Generator.zipf`` function can be used to generate an array of psedorandom values that follow Zipf's distribution. It accepts 2 parameters:\n",
    "* a - distribution parameter (must be greater than 1)\n",
    "* size - the size of the generated array. This parameter is optional, if no size is specified, a single value is returned\n",
    "\n",
    "Let's generate example array:"
   ]
  },
  {
   "cell_type": "code",
   "execution_count": 6,
   "id": "f25196df-cecb-495b-8495-42dddbc4a96d",
   "metadata": {},
   "outputs": [],
   "source": [
    "# distribution parameter\n",
    "a = 1.1 \n",
    "\n",
    "# array of 10000 psedorandom values that follow Zipf's distribution\n",
    "zipf = rng.zipf(a, 10000)"
   ]
  },
  {
   "cell_type": "code",
   "execution_count": 7,
   "id": "4fd698a8-ea4b-48a8-9343-a7168cffb701",
   "metadata": {},
   "outputs": [
    {
     "data": {
      "image/png": "[encoded data removed]",
      "text/plain": [
       "<Figure size 432x288 with 1 Axes>"
      ]
     },
     "metadata": {
      "needs_background": "light"
     },
     "output_type": "display_data"
    }
   ],
   "source": [
    "max_n = 100\n",
    "count, bins, ignored = plt.hist(zipf[zipf<max_n], max_n, density=True)\n",
    "x = np.arange(1., max_n)\n",
    "pdf = x**(-a) / special.zetac(a)  \n",
    "\n",
    "plt.plot(x, pdf, linewidth=2, color='r')\n",
    "#plt.yscale('log')\n",
    "#plt.xscale('log')\n",
    "plt.show()"
   ]
  },
  {
   "cell_type": "markdown",
   "id": "ae7a20e7-f410-426b-b934-9bc5b04a0c35",
   "metadata": {},
   "source": [
    "Zipf's law is most easily observed by plotting the data on the log-log plot, with the x axis being log(rank order) and the y log(frequency). Let's re-plot the ``zipf`` array and the theoretical probability density distribution ``pdf`` using log-log plot:"
   ]
  },
  {
   "cell_type": "code",
   "execution_count": 8,
   "id": "5a13d85e-d049-4320-933f-eace0e2976ef",
   "metadata": {},
   "outputs": [
    {
     "data": {
      "image/png": "[encoded data removed]",
      "text/plain": [
       "<Figure size 432x288 with 1 Axes>"
      ]
     },
     "metadata": {
      "needs_background": "light"
     },
     "output_type": "display_data"
    }
   ],
   "source": [
    "count, bins, ignored = plt.hist(zipf[zipf<max_n], max_n, density=True)\n",
    "\n",
    "plt.plot(x, pdf, linewidth=2, color='r')\n",
    "plt.yscale('log')\n",
    "plt.xscale('log')\n",
    "plt.show()"
   ]
  },
  {
   "cell_type": "code",
   "execution_count": null,
   "id": "6e7643be-99a2-41c0-85a2-0a9ad9af11cd",
   "metadata": {},
   "outputs": [],
   "source": []
  },
  {
   "cell_type": "markdown",
   "id": "066c7421-aad1-475b-b211-96330d359cf2",
   "metadata": {},
   "source": [
    "<a id=\"par3.2\"></a>\n",
    "### 3.2 Weibull distribution\n",
    "    "
   ]
  },
  {
   "cell_type": "markdown",
   "id": "930a5b82-766e-4706-a908-9f945a366a3e",
   "metadata": {
    "tags": []
   },
   "source": [
    "<a id=\"par3.2.1\"></a>\n",
    "#### 3.2.1 Theory"
   ]
  },
  {
   "cell_type": "code",
   "execution_count": null,
   "id": "268e71b0-83dd-499f-acd9-64170c26301f",
   "metadata": {},
   "outputs": [],
   "source": []
  },
  {
   "cell_type": "markdown",
   "id": "6488a8f3-b908-4bdf-ba6d-2ba26dc5a991",
   "metadata": {},
   "source": [
    "<a id=\"par3.2.2\"></a>\n",
    "#### 3.2.2 Use of ``numpy.random.Generator.weibull``"
   ]
  },
  {
   "cell_type": "markdown",
   "id": "dfd08c6c-4fdf-45e5-b038-e7de0fbd3b6f",
   "metadata": {},
   "source": [
    "The ``numpy.random.Generator.weibull`` function can be used to generate an array of psedorandom values that follow Weibull's one-parameter distribution. The function accepts 2 parameters:\n",
    "* a - shape parameter (must be equal or greater than 0)\n",
    "* size - the size of the generated array. This parameter is optional, if no size is specified, a single value is returned\n",
    "\n",
    "Let's generate example array:"
   ]
  },
  {
   "cell_type": "code",
   "execution_count": 3,
   "id": "dd3ee33e-7e8e-4c58-a275-1c76b958bb9b",
   "metadata": {},
   "outputs": [],
   "source": [
    "# shape parameter of the Weibull distribution\n",
    "a = 3\n",
    "\n",
    "# Array of a pseudorandom numbers pooled form the one-parameter Weibull distribution with the shape parameter a\n",
    "weibull = rng.weibull(a, 1000)"
   ]
  },
  {
   "cell_type": "code",
   "execution_count": 4,
   "id": "07a27615-6182-429c-9a3b-b4b6565dd396",
   "metadata": {},
   "outputs": [],
   "source": [
    "\n",
    "x = np.arange(0, 100.)/100.*max(weibull)\n",
    "\n",
    "def weib(x,n,a):\n",
    "    return (a / n) * (x / n)**(a - 1) * np.exp(-(x / n)**a)"
   ]
  },
  {
   "cell_type": "code",
   "execution_count": 5,
   "id": "7d1b5ea0-f3c2-4dfe-8995-7213846f4423",
   "metadata": {},
   "outputs": [
    {
     "data": {
      "image/png": "[encoded data removed]",
      "text/plain": [
       "<Figure size 432x288 with 1 Axes>"
      ]
     },
     "metadata": {
      "needs_background": "light"
     },
     "output_type": "display_data"
    }
   ],
   "source": [
    "count, bins, ignored = plt.hist(weibull, 100)\n",
    "\n",
    "scale = count.max()/weib(x, 1., a).max()\n",
    "plt.plot(x, weib(x, 1., a)*scale)\n",
    "plt.show()"
   ]
  },
  {
   "cell_type": "markdown",
   "id": "10526639-64b3-4e86-ba30-9a4c41d73167",
   "metadata": {},
   "source": [
    "<a id=\"par4\"></a>\n",
    "## 4. Purpose of seeds in generating pseudorandom numbers"
   ]
  },
  {
   "cell_type": "code",
   "execution_count": null,
   "id": "d695104d-fc77-4e0d-af14-3df0e20b4e1c",
   "metadata": {},
   "outputs": [],
   "source": [
    "x"
   ]
  },
  {
   "cell_type": "code",
   "execution_count": null,
   "id": "81071649-ae8c-4559-8ad4-3039fa6f13f8",
   "metadata": {},
   "outputs": [],
   "source": []
  },
  {
   "cell_type": "code",
   "execution_count": null,
   "id": "ef501285-c230-40df-bff1-0f3670ffeead",
   "metadata": {},
   "outputs": [],
   "source": []
  },
  {
   "cell_type": "markdown",
   "id": "7cc9ad37-ceaf-45ad-a679-d4733ba31c5e",
   "metadata": {},
   "source": [
    "<a id=\"ref\"></a>\n",
    "## 5. References"
   ]
  },
  {
   "cell_type": "markdown",
   "id": "a7a762cf-ee4f-473e-884e-39fd5fd1af73",
   "metadata": {},
   "source": [
    "[[1] Markdown for Jupyter notebooks cheatsheet](https://www.ibm.com/docs/en/watson-studio-local/1.2.3?topic=notebooks-markdown-jupyter-cheatsheet)<br>\n",
    "[[2] Power laws, Pareto distributions and Zipf’s law](https://arxiv.org/pdf/cond-mat/0412004.pdf)<br>\n",
    "[[3] Zipf's law, Wikipedia](https://en.wikipedia.org/wiki/Zipf%27s_law)<br>\n",
    "[[4] Zipf Distribution, Wolfram MathWorld](https://mathworld.wolfram.com/ZipfDistribution.html)<br>\n",
    "[[5] The Zipf Mystery, Vsauce](https://www.youtube.com/watch?v=fCn8zs912OE)<br>\n",
    "[[6] Benford's Law and Zipf's Law](http://www.cut-the-knot.org/do_you_know/zipfLaw.shtml)<br>"
   ]
  },
  {
   "cell_type": "markdown",
   "id": "d649d8a4-1101-404c-a2bf-6c49e612836b",
   "metadata": {},
   "source": []
  },
  {
   "cell_type": "markdown",
   "id": "ff17a19d-5c2a-4190-8a73-1aa5474314f0",
   "metadata": {},
   "source": [
    "## End"
   ]
  },
  {
   "cell_type": "code",
   "execution_count": null,
   "id": "56c693c5-3774-4718-b775-6b2395851b3d",
   "metadata": {},
   "outputs": [],
   "source": []
  }
 ],
 "metadata": {
  "kernelspec": {
   "display_name": "Python 3 (ipykernel)",
   "language": "python",
   "name": "python3"
  },
  "language_info": {
   "codemirror_mode": {
    "name": "ipython",
    "version": 3
   },
   "file_extension": ".py",
   "mimetype": "text/x-python",
   "name": "python",
   "nbconvert_exporter": "python",
   "pygments_lexer": "ipython3",
   "version": "3.8.11"
  }
 },
 "nbformat": 4,
 "nbformat_minor": 5
}
