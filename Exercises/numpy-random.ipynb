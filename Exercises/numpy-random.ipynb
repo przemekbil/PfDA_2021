{
 "cells": [
  {
   "cell_type": "code",
   "execution_count": 7,
   "id": "ca45ccc8-6164-44b7-9495-fa258ea5e299",
   "metadata": {},
   "outputs": [],
   "source": [
    "import numpy as np\n",
    "import matplotlib.pyplot as plt"
   ]
  },
  {
   "cell_type": "code",
   "execution_count": 2,
   "id": "51cea942-3efc-41f1-af07-fb7788800316",
   "metadata": {},
   "outputs": [
    {
     "data": {
      "text/plain": [
       "array([0, 1, 0, 0, 1, 1, 1, 0, 0, 0], dtype=int64)"
      ]
     },
     "execution_count": 2,
     "metadata": {},
     "output_type": "execute_result"
    }
   ],
   "source": [
    "rng = np.random.default_rng()\n",
    "rng.integers(2, size=10)"
   ]
  },
  {
   "cell_type": "code",
   "execution_count": 4,
   "id": "9af23f22-020a-4ee6-9514-c69f114d6995",
   "metadata": {},
   "outputs": [
    {
     "data": {
      "text/plain": [
       "array([1, 4, 6, 8, 9, 5, 2, 2, 6, 2], dtype=int64)"
      ]
     },
     "execution_count": 4,
     "metadata": {},
     "output_type": "execute_result"
    }
   ],
   "source": [
    "rng.integers(10, size=10)"
   ]
  },
  {
   "cell_type": "code",
   "execution_count": 6,
   "id": "db8dccb3-e78b-418b-98a7-c47299d9077a",
   "metadata": {},
   "outputs": [
    {
     "data": {
      "text/plain": [
       "array([[1, 0, 3, 1, 2],\n",
       "       [1, 1, 3, 2, 3],\n",
       "       [2, 2, 0, 4, 3]], dtype=int64)"
      ]
     },
     "execution_count": 6,
     "metadata": {},
     "output_type": "execute_result"
    }
   ],
   "source": [
    "rng.integers(5, size=(3, 5))"
   ]
  },
  {
   "cell_type": "code",
   "execution_count": 22,
   "id": "7b8176b7-9d0a-43f1-8398-16430125a5c6",
   "metadata": {},
   "outputs": [],
   "source": [
    "x = rng.integers(100, size=10000000)"
   ]
  },
  {
   "cell_type": "code",
   "execution_count": 23,
   "id": "e7762f17-4a5e-4af6-8e70-9f9d0b313170",
   "metadata": {},
   "outputs": [
    {
     "data": {
      "text/plain": [
       "(array([1001729., 1000160.,  998614., 1000156., 1000567.,  999989.,\n",
       "         999497.,  999248., 1000932.,  999108.]),\n",
       " array([ 0. ,  9.9, 19.8, 29.7, 39.6, 49.5, 59.4, 69.3, 79.2, 89.1, 99. ]),\n",
       " <BarContainer object of 10 artists>)"
      ]
     },
     "execution_count": 23,
     "metadata": {},
     "output_type": "execute_result"
    },
    {
     "data": {
      "image/png": "[encoded data removed]",
      "text/plain": [
       "<Figure size 432x288 with 1 Axes>"
      ]
     },
     "metadata": {
      "needs_background": "light"
     },
     "output_type": "display_data"
    }
   ],
   "source": [
    "plt.hist(x)"
   ]
  },
  {
   "cell_type": "code",
   "execution_count": 24,
   "id": "25e11fd1-e9b0-49b9-822f-500b8317c70b",
   "metadata": {},
   "outputs": [],
   "source": [
    "x = rng.uniform(1,10,1000)"
   ]
  },
  {
   "cell_type": "code",
   "execution_count": 25,
   "id": "10a9c4de-89a3-4bf4-9614-189b901493c2",
   "metadata": {},
   "outputs": [
    {
     "data": {
      "text/plain": [
       "(array([122., 102., 100., 106.,  91., 103.,  88.,  93., 108.,  87.]),\n",
       " array([1.00237677, 1.90206858, 2.8017604 , 3.70145222, 4.60114404,\n",
       "        5.50083586, 6.40052768, 7.3002195 , 8.19991132, 9.09960314,\n",
       "        9.99929496]),\n",
       " <BarContainer object of 10 artists>)"
      ]
     },
     "execution_count": 25,
     "metadata": {},
     "output_type": "execute_result"
    },
    {
     "data": {
      "image/png": "[encoded data removed]",
      "text/plain": [
       "<Figure size 432x288 with 1 Axes>"
      ]
     },
     "metadata": {
      "needs_background": "light"
     },
     "output_type": "display_data"
    }
   ],
   "source": [
    "plt.hist(x)"
   ]
  },
  {
   "cell_type": "markdown",
   "id": "77f70ac0-dd6c-4e89-acdd-a48b52853ec0",
   "metadata": {},
   "source": [
    "## Weibull distribution"
   ]
  },
  {
   "cell_type": "code",
   "execution_count": 26,
   "id": "84a70ba7-b8f3-4c9a-a3a4-c0110849bbbd",
   "metadata": {},
   "outputs": [],
   "source": [
    "a = 5. # shape\n",
    "s = rng.weibull(a, 1000)"
   ]
  },
  {
   "cell_type": "code",
   "execution_count": 31,
   "id": "d5262e8c-78db-4ac8-aee8-327b2e462f07",
   "metadata": {},
   "outputs": [
    {
     "data": {
      "text/plain": [
       "(array([   4.,   22.,  114.,  343.,  904., 1847., 2970., 2698., 1018.,\n",
       "          80.]),\n",
       " array([0.3878549 , 0.47488875, 0.5619226 , 0.64895645, 0.7359903 ,\n",
       "        0.82302415, 0.910058  , 0.99709185, 1.0841257 , 1.17115955,\n",
       "        1.2581934 ]),\n",
       " <BarContainer object of 10 artists>)"
      ]
     },
     "execution_count": 31,
     "metadata": {},
     "output_type": "execute_result"
    },
    {
     "data": {
      "image/png": "[encoded data removed]",
      "text/plain": [
       "<Figure size 432x288 with 1 Axes>"
      ]
     },
     "metadata": {
      "needs_background": "light"
     },
     "output_type": "display_data"
    }
   ],
   "source": [
    "a = 10.\n",
    "plt.hist(rng.weibull(a, 10000))"
   ]
  },
  {
   "cell_type": "code",
   "execution_count": null,
   "id": "2cc938d2-23d9-4e6e-b3a8-bda42b646436",
   "metadata": {},
   "outputs": [],
   "source": []
  }
 ],
 "metadata": {
  "kernelspec": {
   "display_name": "Python 3 (ipykernel)",
   "language": "python",
   "name": "python3"
  },
  "language_info": {
   "codemirror_mode": {
    "name": "ipython",
    "version": 3
   },
   "file_extension": ".py",
   "mimetype": "text/x-python",
   "name": "python",
   "nbconvert_exporter": "python",
   "pygments_lexer": "ipython3",
   "version": "3.8.11"
  }
 },
 "nbformat": 4,
 "nbformat_minor": 5
}
