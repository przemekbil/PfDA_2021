{
 "cells": [
  {
   "cell_type": "markdown",
   "id": "7d28bb31-fc04-4d38-98d6-f364c5721926",
   "metadata": {},
   "source": [
    "# Time series"
   ]
  },
  {
   "cell_type": "code",
   "execution_count": 28,
   "id": "2bb5441f-06ae-470e-be33-c2d8580d79b3",
   "metadata": {},
   "outputs": [],
   "source": [
    "import pandas as pd\n",
    "import seaborn as sns\n",
    "import numpy as np"
   ]
  },
  {
   "cell_type": "code",
   "execution_count": 6,
   "id": "70f20438-12e6-4f89-87e8-33ef035467c0",
   "metadata": {},
   "outputs": [],
   "source": [
    "# This fixes problem with SSL: CERTIFICATE_VERIFY_FAILED in read_csv\n",
    "# https://stackoverflow.com/questions/50236117/scraping-ssl-certificate-verify-failed-error-for-http-en-wikipedia-org\n",
    "\n",
    "import ssl\n",
    "ssl._create_default_https_context = ssl._create_unverified_context"
   ]
  },
  {
   "cell_type": "markdown",
   "id": "e95f6ec2-94a2-4a58-bdbf-45da4fb0af95",
   "metadata": {},
   "source": [
    "### Import csv data from internet"
   ]
  },
  {
   "cell_type": "code",
   "execution_count": 9,
   "id": "cc9c33e1-9a68-4d10-9e1f-95780ac39099",
   "metadata": {},
   "outputs": [],
   "source": [
    "df = pd.read_csv(\"https://cli.fusio.net/cli/climate_data/webdata/dly4935.csv\", skiprows=23, nrows=1000)"
   ]
  },
  {
   "cell_type": "code",
   "execution_count": 10,
   "id": "751038bd-5402-4d7d-b38d-c0cff155f39d",
   "metadata": {},
   "outputs": [
    {
     "data": {
      "text/plain": [
       "(1000, 25)"
      ]
     },
     "execution_count": 10,
     "metadata": {},
     "output_type": "execute_result"
    }
   ],
   "source": [
    "df.shape"
   ]
  },
  {
   "cell_type": "code",
   "execution_count": 11,
   "id": "ec223ad4-c0bf-403c-9329-095ef35ce4a3",
   "metadata": {},
   "outputs": [
    {
     "data": {
      "text/html": [
       "<div>\n",
       "<style scoped>\n",
       "    .dataframe tbody tr th:only-of-type {\n",
       "        vertical-align: middle;\n",
       "    }\n",
       "\n",
       "    .dataframe tbody tr th {\n",
       "        vertical-align: top;\n",
       "    }\n",
       "\n",
       "    .dataframe thead th {\n",
       "        text-align: right;\n",
       "    }\n",
       "</style>\n",
       "<table border=\"1\" class=\"dataframe\">\n",
       "  <thead>\n",
       "    <tr style=\"text-align: right;\">\n",
       "      <th></th>\n",
       "      <th>date</th>\n",
       "      <th>ind</th>\n",
       "      <th>maxtp</th>\n",
       "      <th>ind.1</th>\n",
       "      <th>mintp</th>\n",
       "      <th>igmin</th>\n",
       "      <th>gmin</th>\n",
       "      <th>ind.2</th>\n",
       "      <th>rain</th>\n",
       "      <th>cbl</th>\n",
       "      <th>...</th>\n",
       "      <th>ind.5</th>\n",
       "      <th>hg</th>\n",
       "      <th>sun</th>\n",
       "      <th>dos</th>\n",
       "      <th>soil</th>\n",
       "      <th>pe</th>\n",
       "      <th>evap</th>\n",
       "      <th>smd_wd</th>\n",
       "      <th>smd_md</th>\n",
       "      <th>smd_pd</th>\n",
       "    </tr>\n",
       "  </thead>\n",
       "  <tbody>\n",
       "    <tr>\n",
       "      <th>0</th>\n",
       "      <td>01-aug-1996</td>\n",
       "      <td>4</td>\n",
       "      <td></td>\n",
       "      <td>4</td>\n",
       "      <td></td>\n",
       "      <td></td>\n",
       "      <td></td>\n",
       "      <td>8</td>\n",
       "      <td></td>\n",
       "      <td></td>\n",
       "      <td>...</td>\n",
       "      <td>1</td>\n",
       "      <td></td>\n",
       "      <td>1.1</td>\n",
       "      <td>0</td>\n",
       "      <td></td>\n",
       "      <td></td>\n",
       "      <td></td>\n",
       "      <td></td>\n",
       "      <td></td>\n",
       "      <td></td>\n",
       "    </tr>\n",
       "    <tr>\n",
       "      <th>1</th>\n",
       "      <td>02-aug-1996</td>\n",
       "      <td>0</td>\n",
       "      <td>15.1</td>\n",
       "      <td>0</td>\n",
       "      <td>9.2</td>\n",
       "      <td></td>\n",
       "      <td></td>\n",
       "      <td>0</td>\n",
       "      <td>0.3</td>\n",
       "      <td>999.2</td>\n",
       "      <td>...</td>\n",
       "      <td>0</td>\n",
       "      <td>18</td>\n",
       "      <td></td>\n",
       "      <td>0</td>\n",
       "      <td></td>\n",
       "      <td></td>\n",
       "      <td></td>\n",
       "      <td></td>\n",
       "      <td></td>\n",
       "      <td></td>\n",
       "    </tr>\n",
       "    <tr>\n",
       "      <th>2</th>\n",
       "      <td>03-aug-1996</td>\n",
       "      <td>0</td>\n",
       "      <td>18.0</td>\n",
       "      <td>0</td>\n",
       "      <td>11.6</td>\n",
       "      <td>0</td>\n",
       "      <td>11.4</td>\n",
       "      <td>0</td>\n",
       "      <td>0.0</td>\n",
       "      <td>1002.1</td>\n",
       "      <td>...</td>\n",
       "      <td>0</td>\n",
       "      <td>18</td>\n",
       "      <td>5.7</td>\n",
       "      <td>0</td>\n",
       "      <td>15.600</td>\n",
       "      <td>2.7</td>\n",
       "      <td>3.7</td>\n",
       "      <td>2.7</td>\n",
       "      <td>2.7</td>\n",
       "      <td>2.7</td>\n",
       "    </tr>\n",
       "    <tr>\n",
       "      <th>3</th>\n",
       "      <td>04-aug-1996</td>\n",
       "      <td>0</td>\n",
       "      <td>20.4</td>\n",
       "      <td>0</td>\n",
       "      <td>9.6</td>\n",
       "      <td>0</td>\n",
       "      <td>8.6</td>\n",
       "      <td>0</td>\n",
       "      <td>0.1</td>\n",
       "      <td>991.7</td>\n",
       "      <td>...</td>\n",
       "      <td>0</td>\n",
       "      <td>32</td>\n",
       "      <td>6.8</td>\n",
       "      <td>0</td>\n",
       "      <td>15.975</td>\n",
       "      <td>3.7</td>\n",
       "      <td>5.0</td>\n",
       "      <td>6.2</td>\n",
       "      <td>6.2</td>\n",
       "      <td>6.3</td>\n",
       "    </tr>\n",
       "    <tr>\n",
       "      <th>4</th>\n",
       "      <td>05-aug-1996</td>\n",
       "      <td>0</td>\n",
       "      <td>13.7</td>\n",
       "      <td>0</td>\n",
       "      <td>8.7</td>\n",
       "      <td>0</td>\n",
       "      <td>10.9</td>\n",
       "      <td>0</td>\n",
       "      <td>13.3</td>\n",
       "      <td>983.8</td>\n",
       "      <td>...</td>\n",
       "      <td>0</td>\n",
       "      <td>24</td>\n",
       "      <td>0.0</td>\n",
       "      <td>0</td>\n",
       "      <td>14.625</td>\n",
       "      <td>1.1</td>\n",
       "      <td>1.8</td>\n",
       "      <td>0.0</td>\n",
       "      <td>-6.1</td>\n",
       "      <td>-5.9</td>\n",
       "    </tr>\n",
       "  </tbody>\n",
       "</table>\n",
       "<p>5 rows × 25 columns</p>\n",
       "</div>"
      ],
      "text/plain": [
       "          date  ind maxtp  ind.1 mintp igmin  gmin  ind.2  rain     cbl  ...  \\\n",
       "0  01-aug-1996    4            4                        8                ...   \n",
       "1  02-aug-1996    0  15.1      0   9.2                  0   0.3   999.2  ...   \n",
       "2  03-aug-1996    0  18.0      0  11.6     0  11.4      0   0.0  1002.1  ...   \n",
       "3  04-aug-1996    0  20.4      0   9.6     0   8.6      0   0.1   991.7  ...   \n",
       "4  05-aug-1996    0  13.7      0   8.7     0  10.9      0  13.3   983.8  ...   \n",
       "\n",
       "  ind.5  hg  sun  dos    soil   pe evap smd_wd smd_md smd_pd  \n",
       "0     1      1.1    0                                         \n",
       "1     0  18         0                                         \n",
       "2     0  18  5.7    0  15.600  2.7  3.7    2.7    2.7    2.7  \n",
       "3     0  32  6.8    0  15.975  3.7  5.0    6.2    6.2    6.3  \n",
       "4     0  24  0.0    0  14.625  1.1  1.8    0.0   -6.1   -5.9  \n",
       "\n",
       "[5 rows x 25 columns]"
      ]
     },
     "execution_count": 11,
     "metadata": {},
     "output_type": "execute_result"
    }
   ],
   "source": [
    "df.head()"
   ]
  },
  {
   "cell_type": "code",
   "execution_count": 12,
   "id": "4a0a5040-fd1f-4bb0-a447-e752a28e6719",
   "metadata": {},
   "outputs": [
    {
     "data": {
      "text/plain": [
       "Index(['date', 'ind', 'maxtp', 'ind.1', 'mintp', 'igmin', 'gmin', 'ind.2',\n",
       "       'rain', 'cbl', 'wdsp', 'ind.3', 'hm', 'ind.4', 'ddhm', 'ind.5', 'hg',\n",
       "       'sun', 'dos', 'soil', 'pe', 'evap', 'smd_wd', 'smd_md', 'smd_pd'],\n",
       "      dtype='object')"
      ]
     },
     "execution_count": 12,
     "metadata": {},
     "output_type": "execute_result"
    }
   ],
   "source": [
    "df.columns"
   ]
  },
  {
   "cell_type": "code",
   "execution_count": 15,
   "id": "35823c96-52a8-47b4-be5f-3bb44f745a06",
   "metadata": {},
   "outputs": [],
   "source": [
    "df['datetime']=pd.to_datetime(df['date'])"
   ]
  },
  {
   "cell_type": "code",
   "execution_count": 16,
   "id": "9d4918e7-c7df-4988-9124-181084169022",
   "metadata": {},
   "outputs": [
    {
     "data": {
      "text/html": [
       "<div>\n",
       "<style scoped>\n",
       "    .dataframe tbody tr th:only-of-type {\n",
       "        vertical-align: middle;\n",
       "    }\n",
       "\n",
       "    .dataframe tbody tr th {\n",
       "        vertical-align: top;\n",
       "    }\n",
       "\n",
       "    .dataframe thead th {\n",
       "        text-align: right;\n",
       "    }\n",
       "</style>\n",
       "<table border=\"1\" class=\"dataframe\">\n",
       "  <thead>\n",
       "    <tr style=\"text-align: right;\">\n",
       "      <th></th>\n",
       "      <th>date</th>\n",
       "      <th>ind</th>\n",
       "      <th>maxtp</th>\n",
       "      <th>ind.1</th>\n",
       "      <th>mintp</th>\n",
       "      <th>igmin</th>\n",
       "      <th>gmin</th>\n",
       "      <th>ind.2</th>\n",
       "      <th>rain</th>\n",
       "      <th>cbl</th>\n",
       "      <th>...</th>\n",
       "      <th>hg</th>\n",
       "      <th>sun</th>\n",
       "      <th>dos</th>\n",
       "      <th>soil</th>\n",
       "      <th>pe</th>\n",
       "      <th>evap</th>\n",
       "      <th>smd_wd</th>\n",
       "      <th>smd_md</th>\n",
       "      <th>smd_pd</th>\n",
       "      <th>datetime</th>\n",
       "    </tr>\n",
       "  </thead>\n",
       "  <tbody>\n",
       "    <tr>\n",
       "      <th>0</th>\n",
       "      <td>01-aug-1996</td>\n",
       "      <td>4</td>\n",
       "      <td></td>\n",
       "      <td>4</td>\n",
       "      <td></td>\n",
       "      <td></td>\n",
       "      <td></td>\n",
       "      <td>8</td>\n",
       "      <td></td>\n",
       "      <td></td>\n",
       "      <td>...</td>\n",
       "      <td></td>\n",
       "      <td>1.1</td>\n",
       "      <td>0</td>\n",
       "      <td></td>\n",
       "      <td></td>\n",
       "      <td></td>\n",
       "      <td></td>\n",
       "      <td></td>\n",
       "      <td></td>\n",
       "      <td>1996-08-01</td>\n",
       "    </tr>\n",
       "    <tr>\n",
       "      <th>1</th>\n",
       "      <td>02-aug-1996</td>\n",
       "      <td>0</td>\n",
       "      <td>15.1</td>\n",
       "      <td>0</td>\n",
       "      <td>9.2</td>\n",
       "      <td></td>\n",
       "      <td></td>\n",
       "      <td>0</td>\n",
       "      <td>0.3</td>\n",
       "      <td>999.2</td>\n",
       "      <td>...</td>\n",
       "      <td>18</td>\n",
       "      <td></td>\n",
       "      <td>0</td>\n",
       "      <td></td>\n",
       "      <td></td>\n",
       "      <td></td>\n",
       "      <td></td>\n",
       "      <td></td>\n",
       "      <td></td>\n",
       "      <td>1996-08-02</td>\n",
       "    </tr>\n",
       "    <tr>\n",
       "      <th>2</th>\n",
       "      <td>03-aug-1996</td>\n",
       "      <td>0</td>\n",
       "      <td>18.0</td>\n",
       "      <td>0</td>\n",
       "      <td>11.6</td>\n",
       "      <td>0</td>\n",
       "      <td>11.4</td>\n",
       "      <td>0</td>\n",
       "      <td>0.0</td>\n",
       "      <td>1002.1</td>\n",
       "      <td>...</td>\n",
       "      <td>18</td>\n",
       "      <td>5.7</td>\n",
       "      <td>0</td>\n",
       "      <td>15.600</td>\n",
       "      <td>2.7</td>\n",
       "      <td>3.7</td>\n",
       "      <td>2.7</td>\n",
       "      <td>2.7</td>\n",
       "      <td>2.7</td>\n",
       "      <td>1996-08-03</td>\n",
       "    </tr>\n",
       "    <tr>\n",
       "      <th>3</th>\n",
       "      <td>04-aug-1996</td>\n",
       "      <td>0</td>\n",
       "      <td>20.4</td>\n",
       "      <td>0</td>\n",
       "      <td>9.6</td>\n",
       "      <td>0</td>\n",
       "      <td>8.6</td>\n",
       "      <td>0</td>\n",
       "      <td>0.1</td>\n",
       "      <td>991.7</td>\n",
       "      <td>...</td>\n",
       "      <td>32</td>\n",
       "      <td>6.8</td>\n",
       "      <td>0</td>\n",
       "      <td>15.975</td>\n",
       "      <td>3.7</td>\n",
       "      <td>5.0</td>\n",
       "      <td>6.2</td>\n",
       "      <td>6.2</td>\n",
       "      <td>6.3</td>\n",
       "      <td>1996-08-04</td>\n",
       "    </tr>\n",
       "    <tr>\n",
       "      <th>4</th>\n",
       "      <td>05-aug-1996</td>\n",
       "      <td>0</td>\n",
       "      <td>13.7</td>\n",
       "      <td>0</td>\n",
       "      <td>8.7</td>\n",
       "      <td>0</td>\n",
       "      <td>10.9</td>\n",
       "      <td>0</td>\n",
       "      <td>13.3</td>\n",
       "      <td>983.8</td>\n",
       "      <td>...</td>\n",
       "      <td>24</td>\n",
       "      <td>0.0</td>\n",
       "      <td>0</td>\n",
       "      <td>14.625</td>\n",
       "      <td>1.1</td>\n",
       "      <td>1.8</td>\n",
       "      <td>0.0</td>\n",
       "      <td>-6.1</td>\n",
       "      <td>-5.9</td>\n",
       "      <td>1996-08-05</td>\n",
       "    </tr>\n",
       "  </tbody>\n",
       "</table>\n",
       "<p>5 rows × 26 columns</p>\n",
       "</div>"
      ],
      "text/plain": [
       "          date  ind maxtp  ind.1 mintp igmin  gmin  ind.2  rain     cbl  ...  \\\n",
       "0  01-aug-1996    4            4                        8                ...   \n",
       "1  02-aug-1996    0  15.1      0   9.2                  0   0.3   999.2  ...   \n",
       "2  03-aug-1996    0  18.0      0  11.6     0  11.4      0   0.0  1002.1  ...   \n",
       "3  04-aug-1996    0  20.4      0   9.6     0   8.6      0   0.1   991.7  ...   \n",
       "4  05-aug-1996    0  13.7      0   8.7     0  10.9      0  13.3   983.8  ...   \n",
       "\n",
       "   hg  sun dos    soil   pe  evap smd_wd smd_md smd_pd   datetime  \n",
       "0      1.1   0                                         1996-08-01  \n",
       "1  18        0                                         1996-08-02  \n",
       "2  18  5.7   0  15.600  2.7   3.7    2.7    2.7    2.7 1996-08-03  \n",
       "3  32  6.8   0  15.975  3.7   5.0    6.2    6.2    6.3 1996-08-04  \n",
       "4  24  0.0   0  14.625  1.1   1.8    0.0   -6.1   -5.9 1996-08-05  \n",
       "\n",
       "[5 rows x 26 columns]"
      ]
     },
     "execution_count": 16,
     "metadata": {},
     "output_type": "execute_result"
    }
   ],
   "source": [
    "df.head()"
   ]
  },
  {
   "cell_type": "code",
   "execution_count": 20,
   "id": "58af1e33-e67b-460b-a729-14a3bf038241",
   "metadata": {},
   "outputs": [],
   "source": [
    "df = df.dropna()"
   ]
  },
  {
   "cell_type": "markdown",
   "id": "d09f9344-9fc0-4355-9c26-c26a0aab0d9d",
   "metadata": {},
   "source": [
    "### Plot time series"
   ]
  },
  {
   "cell_type": "code",
   "execution_count": 25,
   "id": "cae64d26-a0f0-4768-945b-6a3740ab7a14",
   "metadata": {},
   "outputs": [
    {
     "data": {
      "text/plain": [
       "<AxesSubplot:xlabel='datetime', ylabel='maxtp'>"
      ]
     },
     "execution_count": 25,
     "metadata": {},
     "output_type": "execute_result"
    },
    {
     "data": {
      "image/png": "[encoded data removed]",
      "text/plain": [
       "<Figure size 432x288 with 1 Axes>"
      ]
     },
     "metadata": {
      "needs_background": "light"
     },
     "output_type": "display_data"
    }
   ],
   "source": [
    "sns.lineplot(x=\"datetime\", y=\"maxtp\", data=df)"
   ]
  },
  {
   "cell_type": "markdown",
   "id": "17226a9c-770b-4f48-88bc-cb423e77a4aa",
   "metadata": {},
   "source": [
    "## Create time series"
   ]
  },
  {
   "cell_type": "code",
   "execution_count": 26,
   "id": "6b81dbf0-d2f4-43f3-aca6-0f703aaee010",
   "metadata": {},
   "outputs": [],
   "source": [
    "# Adapted from: https://pandas.pydata.org/pandas-docs/stable/reference/api/pandas.date_range.html\n",
    "rng = pd.date_range(start='1/1/2018', periods=72, freq='H')"
   ]
  },
  {
   "cell_type": "code",
   "execution_count": 27,
   "id": "13f033e4-8c6a-4668-bfff-ec3750f01ae5",
   "metadata": {},
   "outputs": [
    {
     "data": {
      "text/plain": [
       "DatetimeIndex(['2018-01-01 00:00:00', '2018-01-01 01:00:00',\n",
       "               '2018-01-01 02:00:00', '2018-01-01 03:00:00',\n",
       "               '2018-01-01 04:00:00', '2018-01-01 05:00:00',\n",
       "               '2018-01-01 06:00:00', '2018-01-01 07:00:00',\n",
       "               '2018-01-01 08:00:00', '2018-01-01 09:00:00',\n",
       "               '2018-01-01 10:00:00', '2018-01-01 11:00:00',\n",
       "               '2018-01-01 12:00:00', '2018-01-01 13:00:00',\n",
       "               '2018-01-01 14:00:00', '2018-01-01 15:00:00',\n",
       "               '2018-01-01 16:00:00', '2018-01-01 17:00:00',\n",
       "               '2018-01-01 18:00:00', '2018-01-01 19:00:00',\n",
       "               '2018-01-01 20:00:00', '2018-01-01 21:00:00',\n",
       "               '2018-01-01 22:00:00', '2018-01-01 23:00:00',\n",
       "               '2018-01-02 00:00:00', '2018-01-02 01:00:00',\n",
       "               '2018-01-02 02:00:00', '2018-01-02 03:00:00',\n",
       "               '2018-01-02 04:00:00', '2018-01-02 05:00:00',\n",
       "               '2018-01-02 06:00:00', '2018-01-02 07:00:00',\n",
       "               '2018-01-02 08:00:00', '2018-01-02 09:00:00',\n",
       "               '2018-01-02 10:00:00', '2018-01-02 11:00:00',\n",
       "               '2018-01-02 12:00:00', '2018-01-02 13:00:00',\n",
       "               '2018-01-02 14:00:00', '2018-01-02 15:00:00',\n",
       "               '2018-01-02 16:00:00', '2018-01-02 17:00:00',\n",
       "               '2018-01-02 18:00:00', '2018-01-02 19:00:00',\n",
       "               '2018-01-02 20:00:00', '2018-01-02 21:00:00',\n",
       "               '2018-01-02 22:00:00', '2018-01-02 23:00:00',\n",
       "               '2018-01-03 00:00:00', '2018-01-03 01:00:00',\n",
       "               '2018-01-03 02:00:00', '2018-01-03 03:00:00',\n",
       "               '2018-01-03 04:00:00', '2018-01-03 05:00:00',\n",
       "               '2018-01-03 06:00:00', '2018-01-03 07:00:00',\n",
       "               '2018-01-03 08:00:00', '2018-01-03 09:00:00',\n",
       "               '2018-01-03 10:00:00', '2018-01-03 11:00:00',\n",
       "               '2018-01-03 12:00:00', '2018-01-03 13:00:00',\n",
       "               '2018-01-03 14:00:00', '2018-01-03 15:00:00',\n",
       "               '2018-01-03 16:00:00', '2018-01-03 17:00:00',\n",
       "               '2018-01-03 18:00:00', '2018-01-03 19:00:00',\n",
       "               '2018-01-03 20:00:00', '2018-01-03 21:00:00',\n",
       "               '2018-01-03 22:00:00', '2018-01-03 23:00:00'],\n",
       "              dtype='datetime64[ns]', freq='H')"
      ]
     },
     "execution_count": 27,
     "metadata": {},
     "output_type": "execute_result"
    }
   ],
   "source": [
    "rng"
   ]
  },
  {
   "cell_type": "code",
   "execution_count": 35,
   "id": "3ca0cf97-8978-42f4-99bc-aeed29125c8d",
   "metadata": {},
   "outputs": [],
   "source": [
    "ts = pd.DataFrame(np.random.poisson(10, len(rng)), index=rng, columns=[\"admissions\"])"
   ]
  },
  {
   "cell_type": "code",
   "execution_count": 36,
   "id": "42740e14-41f1-4e23-92b3-f425b72f1305",
   "metadata": {},
   "outputs": [
    {
     "data": {
      "text/html": [
       "<div>\n",
       "<style scoped>\n",
       "    .dataframe tbody tr th:only-of-type {\n",
       "        vertical-align: middle;\n",
       "    }\n",
       "\n",
       "    .dataframe tbody tr th {\n",
       "        vertical-align: top;\n",
       "    }\n",
       "\n",
       "    .dataframe thead th {\n",
       "        text-align: right;\n",
       "    }\n",
       "</style>\n",
       "<table border=\"1\" class=\"dataframe\">\n",
       "  <thead>\n",
       "    <tr style=\"text-align: right;\">\n",
       "      <th></th>\n",
       "      <th>admissions</th>\n",
       "    </tr>\n",
       "  </thead>\n",
       "  <tbody>\n",
       "    <tr>\n",
       "      <th>2018-01-01 00:00:00</th>\n",
       "      <td>12</td>\n",
       "    </tr>\n",
       "    <tr>\n",
       "      <th>2018-01-01 01:00:00</th>\n",
       "      <td>11</td>\n",
       "    </tr>\n",
       "    <tr>\n",
       "      <th>2018-01-01 02:00:00</th>\n",
       "      <td>6</td>\n",
       "    </tr>\n",
       "    <tr>\n",
       "      <th>2018-01-01 03:00:00</th>\n",
       "      <td>8</td>\n",
       "    </tr>\n",
       "    <tr>\n",
       "      <th>2018-01-01 04:00:00</th>\n",
       "      <td>8</td>\n",
       "    </tr>\n",
       "    <tr>\n",
       "      <th>...</th>\n",
       "      <td>...</td>\n",
       "    </tr>\n",
       "    <tr>\n",
       "      <th>2018-01-03 19:00:00</th>\n",
       "      <td>9</td>\n",
       "    </tr>\n",
       "    <tr>\n",
       "      <th>2018-01-03 20:00:00</th>\n",
       "      <td>7</td>\n",
       "    </tr>\n",
       "    <tr>\n",
       "      <th>2018-01-03 21:00:00</th>\n",
       "      <td>8</td>\n",
       "    </tr>\n",
       "    <tr>\n",
       "      <th>2018-01-03 22:00:00</th>\n",
       "      <td>10</td>\n",
       "    </tr>\n",
       "    <tr>\n",
       "      <th>2018-01-03 23:00:00</th>\n",
       "      <td>14</td>\n",
       "    </tr>\n",
       "  </tbody>\n",
       "</table>\n",
       "<p>72 rows × 1 columns</p>\n",
       "</div>"
      ],
      "text/plain": [
       "                     admissions\n",
       "2018-01-01 00:00:00          12\n",
       "2018-01-01 01:00:00          11\n",
       "2018-01-01 02:00:00           6\n",
       "2018-01-01 03:00:00           8\n",
       "2018-01-01 04:00:00           8\n",
       "...                         ...\n",
       "2018-01-03 19:00:00           9\n",
       "2018-01-03 20:00:00           7\n",
       "2018-01-03 21:00:00           8\n",
       "2018-01-03 22:00:00          10\n",
       "2018-01-03 23:00:00          14\n",
       "\n",
       "[72 rows x 1 columns]"
      ]
     },
     "execution_count": 36,
     "metadata": {},
     "output_type": "execute_result"
    }
   ],
   "source": [
    "ts"
   ]
  },
  {
   "cell_type": "markdown",
   "id": "84582ee4-3cec-404b-b952-7509c77b2c51",
   "metadata": {},
   "source": [
    "### Accessing and groupping"
   ]
  },
  {
   "cell_type": "code",
   "execution_count": 37,
   "id": "68978088-7a38-4eee-993d-b8cabc1c7018",
   "metadata": {},
   "outputs": [
    {
     "data": {
      "text/plain": [
       "admissions    9.902778\n",
       "dtype: float64"
      ]
     },
     "execution_count": 37,
     "metadata": {},
     "output_type": "execute_result"
    }
   ],
   "source": [
    "ts.mean()"
   ]
  },
  {
   "cell_type": "code",
   "execution_count": 41,
   "id": "8c202316-c828-49d5-96b7-1c92b08ca601",
   "metadata": {},
   "outputs": [
    {
     "data": {
      "text/plain": [
       "admissions    10.041667\n",
       "dtype: float64"
      ]
     },
     "execution_count": 41,
     "metadata": {},
     "output_type": "execute_result"
    }
   ],
   "source": [
    "ts.loc['2018-01-01 00:00:00':'2018-01-01 23:00:00'].mean()"
   ]
  },
  {
   "cell_type": "code",
   "execution_count": 43,
   "id": "73849787-a413-43de-aa24-70aa1bbe5d76",
   "metadata": {},
   "outputs": [
    {
     "data": {
      "text/html": [
       "<div>\n",
       "<style scoped>\n",
       "    .dataframe tbody tr th:only-of-type {\n",
       "        vertical-align: middle;\n",
       "    }\n",
       "\n",
       "    .dataframe tbody tr th {\n",
       "        vertical-align: top;\n",
       "    }\n",
       "\n",
       "    .dataframe thead th {\n",
       "        text-align: right;\n",
       "    }\n",
       "</style>\n",
       "<table border=\"1\" class=\"dataframe\">\n",
       "  <thead>\n",
       "    <tr style=\"text-align: right;\">\n",
       "      <th></th>\n",
       "      <th>admissions</th>\n",
       "    </tr>\n",
       "  </thead>\n",
       "  <tbody>\n",
       "    <tr>\n",
       "      <th>2018-01-01</th>\n",
       "      <td>10.041667</td>\n",
       "    </tr>\n",
       "    <tr>\n",
       "      <th>2018-01-02</th>\n",
       "      <td>10.458333</td>\n",
       "    </tr>\n",
       "    <tr>\n",
       "      <th>2018-01-03</th>\n",
       "      <td>9.208333</td>\n",
       "    </tr>\n",
       "  </tbody>\n",
       "</table>\n",
       "</div>"
      ],
      "text/plain": [
       "            admissions\n",
       "2018-01-01   10.041667\n",
       "2018-01-02   10.458333\n",
       "2018-01-03    9.208333"
      ]
     },
     "execution_count": 43,
     "metadata": {},
     "output_type": "execute_result"
    }
   ],
   "source": [
    "ts.resample('D').mean()"
   ]
  },
  {
   "cell_type": "code",
   "execution_count": null,
   "id": "ef949ef7-c2b2-4983-b939-b994df484457",
   "metadata": {},
   "outputs": [],
   "source": []
  }
 ],
 "metadata": {
  "kernelspec": {
   "display_name": "Python 3 (ipykernel)",
   "language": "python",
   "name": "python3"
  },
  "language_info": {
   "codemirror_mode": {
    "name": "ipython",
    "version": 3
   },
   "file_extension": ".py",
   "mimetype": "text/x-python",
   "name": "python",
   "nbconvert_exporter": "python",
   "pygments_lexer": "ipython3",
   "version": "3.8.11"
  }
 },
 "nbformat": 4,
 "nbformat_minor": 5
}
